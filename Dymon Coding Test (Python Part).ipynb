{
 "cells": [
  {
   "cell_type": "code",
   "execution_count": 29,
   "metadata": {},
   "outputs": [],
   "source": [
    "import pandas as pd\n",
    "import numpy as np\n",
    "import matplotlib.pyplot as plt\n",
    "from scipy.stats import norm"
   ]
  },
  {
   "cell_type": "code",
   "execution_count": 30,
   "metadata": {},
   "outputs": [],
   "source": [
    "#Reading Data\n",
    "df_price = pd.read_excel(\"/Users/hunglun/Downloads/prices.xlsx\")\n",
    "df_price.set_index(\"Date\",inplace = True)"
   ]
  },
  {
   "cell_type": "code",
   "execution_count": 31,
   "metadata": {},
   "outputs": [],
   "source": [
    "#Renaming Column\n",
    "df_price = df_price.rename(columns = {\"FB US Equity\":\"FB\", \"AAPL US Equity\":\"AAPL\",\"AMZN US Equity\":\"AMZN\",\"GOOG US Equity\":\"GOOG\",\"NFLX US Equity\":\"NFLX\"})\n"
   ]
  },
  {
   "cell_type": "code",
   "execution_count": 32,
   "metadata": {
    "scrolled": true
   },
   "outputs": [
    {
     "data": {
      "text/html": [
       "<div>\n",
       "<style scoped>\n",
       "    .dataframe tbody tr th:only-of-type {\n",
       "        vertical-align: middle;\n",
       "    }\n",
       "\n",
       "    .dataframe tbody tr th {\n",
       "        vertical-align: top;\n",
       "    }\n",
       "\n",
       "    .dataframe thead th {\n",
       "        text-align: right;\n",
       "    }\n",
       "</style>\n",
       "<table border=\"1\" class=\"dataframe\">\n",
       "  <thead>\n",
       "    <tr style=\"text-align: right;\">\n",
       "      <th></th>\n",
       "      <th>FB</th>\n",
       "      <th>AAPL</th>\n",
       "      <th>AMZN</th>\n",
       "      <th>NFLX</th>\n",
       "      <th>GOOG</th>\n",
       "    </tr>\n",
       "    <tr>\n",
       "      <th>Date</th>\n",
       "      <th></th>\n",
       "      <th></th>\n",
       "      <th></th>\n",
       "      <th></th>\n",
       "      <th></th>\n",
       "    </tr>\n",
       "  </thead>\n",
       "  <tbody>\n",
       "    <tr>\n",
       "      <th>2019-01-02</th>\n",
       "      <td>0.035014</td>\n",
       "      <td>0.001141</td>\n",
       "      <td>0.024741</td>\n",
       "      <td>0.000000</td>\n",
       "      <td>0.009888</td>\n",
       "    </tr>\n",
       "    <tr>\n",
       "      <th>2019-01-03</th>\n",
       "      <td>-0.029039</td>\n",
       "      <td>-0.099595</td>\n",
       "      <td>-0.025242</td>\n",
       "      <td>0.013226</td>\n",
       "      <td>-0.028484</td>\n",
       "    </tr>\n",
       "    <tr>\n",
       "      <th>2019-01-04</th>\n",
       "      <td>0.047138</td>\n",
       "      <td>0.042675</td>\n",
       "      <td>0.050064</td>\n",
       "      <td>0.097235</td>\n",
       "      <td>0.053786</td>\n",
       "    </tr>\n",
       "    <tr>\n",
       "      <th>2019-01-07</th>\n",
       "      <td>0.000725</td>\n",
       "      <td>-0.002212</td>\n",
       "      <td>0.034353</td>\n",
       "      <td>0.059717</td>\n",
       "      <td>-0.002167</td>\n",
       "    </tr>\n",
       "    <tr>\n",
       "      <th>2019-01-08</th>\n",
       "      <td>0.032452</td>\n",
       "      <td>0.019063</td>\n",
       "      <td>0.016612</td>\n",
       "      <td>0.015634</td>\n",
       "      <td>0.007385</td>\n",
       "    </tr>\n",
       "    <tr>\n",
       "      <th>...</th>\n",
       "      <td>...</td>\n",
       "      <td>...</td>\n",
       "      <td>...</td>\n",
       "      <td>...</td>\n",
       "      <td>...</td>\n",
       "    </tr>\n",
       "    <tr>\n",
       "      <th>2020-12-24</th>\n",
       "      <td>-0.002648</td>\n",
       "      <td>0.007712</td>\n",
       "      <td>-0.003949</td>\n",
       "      <td>-0.000991</td>\n",
       "      <td>0.003735</td>\n",
       "    </tr>\n",
       "    <tr>\n",
       "      <th>2020-12-28</th>\n",
       "      <td>0.035901</td>\n",
       "      <td>0.035766</td>\n",
       "      <td>0.035071</td>\n",
       "      <td>0.010020</td>\n",
       "      <td>0.021416</td>\n",
       "    </tr>\n",
       "    <tr>\n",
       "      <th>2020-12-29</th>\n",
       "      <td>-0.000794</td>\n",
       "      <td>-0.013315</td>\n",
       "      <td>0.011584</td>\n",
       "      <td>0.022634</td>\n",
       "      <td>-0.009780</td>\n",
       "    </tr>\n",
       "    <tr>\n",
       "      <th>2020-12-30</th>\n",
       "      <td>-0.017740</td>\n",
       "      <td>-0.008527</td>\n",
       "      <td>-0.010882</td>\n",
       "      <td>-0.011830</td>\n",
       "      <td>-0.010917</td>\n",
       "    </tr>\n",
       "    <tr>\n",
       "      <th>2020-12-31</th>\n",
       "      <td>0.004745</td>\n",
       "      <td>-0.007703</td>\n",
       "      <td>-0.008801</td>\n",
       "      <td>0.030767</td>\n",
       "      <td>0.007105</td>\n",
       "    </tr>\n",
       "  </tbody>\n",
       "</table>\n",
       "<p>505 rows × 5 columns</p>\n",
       "</div>"
      ],
      "text/plain": [
       "                  FB      AAPL      AMZN      NFLX      GOOG\n",
       "Date                                                        \n",
       "2019-01-02  0.035014  0.001141  0.024741  0.000000  0.009888\n",
       "2019-01-03 -0.029039 -0.099595 -0.025242  0.013226 -0.028484\n",
       "2019-01-04  0.047138  0.042675  0.050064  0.097235  0.053786\n",
       "2019-01-07  0.000725 -0.002212  0.034353  0.059717 -0.002167\n",
       "2019-01-08  0.032452  0.019063  0.016612  0.015634  0.007385\n",
       "...              ...       ...       ...       ...       ...\n",
       "2020-12-24 -0.002648  0.007712 -0.003949 -0.000991  0.003735\n",
       "2020-12-28  0.035901  0.035766  0.035071  0.010020  0.021416\n",
       "2020-12-29 -0.000794 -0.013315  0.011584  0.022634 -0.009780\n",
       "2020-12-30 -0.017740 -0.008527 -0.010882 -0.011830 -0.010917\n",
       "2020-12-31  0.004745 -0.007703 -0.008801  0.030767  0.007105\n",
       "\n",
       "[505 rows x 5 columns]"
      ]
     },
     "execution_count": 32,
     "metadata": {},
     "output_type": "execute_result"
    }
   ],
   "source": [
    "#Question 1\n",
    "df_return = df_price.pct_change(1).iloc[1:,:]\n",
    "df_return"
   ]
  },
  {
   "cell_type": "code",
   "execution_count": 33,
   "metadata": {
    "scrolled": true
   },
   "outputs": [
    {
     "data": {
      "text/html": [
       "<div>\n",
       "<style scoped>\n",
       "    .dataframe tbody tr th:only-of-type {\n",
       "        vertical-align: middle;\n",
       "    }\n",
       "\n",
       "    .dataframe tbody tr th {\n",
       "        vertical-align: top;\n",
       "    }\n",
       "\n",
       "    .dataframe thead th {\n",
       "        text-align: right;\n",
       "    }\n",
       "</style>\n",
       "<table border=\"1\" class=\"dataframe\">\n",
       "  <thead>\n",
       "    <tr style=\"text-align: right;\">\n",
       "      <th></th>\n",
       "      <th>FB</th>\n",
       "      <th>AAPL</th>\n",
       "      <th>AMZN</th>\n",
       "      <th>NFLX</th>\n",
       "      <th>GOOG</th>\n",
       "    </tr>\n",
       "  </thead>\n",
       "  <tbody>\n",
       "    <tr>\n",
       "      <th>FB</th>\n",
       "      <td>1.000000</td>\n",
       "      <td>0.691989</td>\n",
       "      <td>0.665265</td>\n",
       "      <td>0.522210</td>\n",
       "      <td>0.737472</td>\n",
       "    </tr>\n",
       "    <tr>\n",
       "      <th>AAPL</th>\n",
       "      <td>0.691989</td>\n",
       "      <td>1.000000</td>\n",
       "      <td>0.670520</td>\n",
       "      <td>0.503074</td>\n",
       "      <td>0.700623</td>\n",
       "    </tr>\n",
       "    <tr>\n",
       "      <th>AMZN</th>\n",
       "      <td>0.665265</td>\n",
       "      <td>0.670520</td>\n",
       "      <td>1.000000</td>\n",
       "      <td>0.631316</td>\n",
       "      <td>0.661136</td>\n",
       "    </tr>\n",
       "    <tr>\n",
       "      <th>NFLX</th>\n",
       "      <td>0.522210</td>\n",
       "      <td>0.503074</td>\n",
       "      <td>0.631316</td>\n",
       "      <td>1.000000</td>\n",
       "      <td>0.502176</td>\n",
       "    </tr>\n",
       "    <tr>\n",
       "      <th>GOOG</th>\n",
       "      <td>0.737472</td>\n",
       "      <td>0.700623</td>\n",
       "      <td>0.661136</td>\n",
       "      <td>0.502176</td>\n",
       "      <td>1.000000</td>\n",
       "    </tr>\n",
       "  </tbody>\n",
       "</table>\n",
       "</div>"
      ],
      "text/plain": [
       "            FB      AAPL      AMZN      NFLX      GOOG\n",
       "FB    1.000000  0.691989  0.665265  0.522210  0.737472\n",
       "AAPL  0.691989  1.000000  0.670520  0.503074  0.700623\n",
       "AMZN  0.665265  0.670520  1.000000  0.631316  0.661136\n",
       "NFLX  0.522210  0.503074  0.631316  1.000000  0.502176\n",
       "GOOG  0.737472  0.700623  0.661136  0.502176  1.000000"
      ]
     },
     "execution_count": 33,
     "metadata": {},
     "output_type": "execute_result"
    }
   ],
   "source": [
    "#Question 2 \n",
    "df_return.corr()"
   ]
  },
  {
   "cell_type": "code",
   "execution_count": 61,
   "metadata": {},
   "outputs": [
    {
     "data": {
      "text/plain": [
       "42337.32827719336"
      ]
     },
     "execution_count": 61,
     "metadata": {},
     "output_type": "execute_result"
    }
   ],
   "source": [
    "#Question 3\n",
    "initial_investment = 1000000\n",
    "weights = np.array([0.2, 0.2, 0.2, 0.2, 0.2])\n",
    "cov_matrix = df_return.cov()\n",
    "avg_rets = df_return.mean()\n",
    "port_stdev = df_return['portfolio_daily_returns'].std()\n",
    "mean_investment = (1+port_mean) * initial_investment\n",
    "stdev_investment = initial_investment * port_stdev\n",
    "conf_level1 = 0.01\n",
    "cutoff1 = norm.ppf(conf_level1, mean_investment, stdev_investment)\n",
    "var_1d1 = initial_investment - cutoff1\n",
    "var_1d1"
   ]
  },
  {
   "cell_type": "code",
   "execution_count": 35,
   "metadata": {
    "scrolled": true
   },
   "outputs": [
    {
     "data": {
      "text/html": [
       "<div>\n",
       "<style scoped>\n",
       "    .dataframe tbody tr th:only-of-type {\n",
       "        vertical-align: middle;\n",
       "    }\n",
       "\n",
       "    .dataframe tbody tr th {\n",
       "        vertical-align: top;\n",
       "    }\n",
       "\n",
       "    .dataframe thead th {\n",
       "        text-align: right;\n",
       "    }\n",
       "</style>\n",
       "<table border=\"1\" class=\"dataframe\">\n",
       "  <thead>\n",
       "    <tr style=\"text-align: right;\">\n",
       "      <th></th>\n",
       "      <th>FB</th>\n",
       "      <th>AAPL</th>\n",
       "      <th>AMZN</th>\n",
       "      <th>NFLX</th>\n",
       "      <th>GOOG</th>\n",
       "      <th>portfolio_daily_returns</th>\n",
       "    </tr>\n",
       "    <tr>\n",
       "      <th>Date</th>\n",
       "      <th></th>\n",
       "      <th></th>\n",
       "      <th></th>\n",
       "      <th></th>\n",
       "      <th></th>\n",
       "      <th></th>\n",
       "    </tr>\n",
       "  </thead>\n",
       "  <tbody>\n",
       "    <tr>\n",
       "      <th>2019-01-02</th>\n",
       "      <td>0.035014</td>\n",
       "      <td>0.001141</td>\n",
       "      <td>0.024741</td>\n",
       "      <td>0.000000</td>\n",
       "      <td>0.009888</td>\n",
       "      <td>0.014157</td>\n",
       "    </tr>\n",
       "    <tr>\n",
       "      <th>2019-01-03</th>\n",
       "      <td>-0.029039</td>\n",
       "      <td>-0.099595</td>\n",
       "      <td>-0.025242</td>\n",
       "      <td>0.013226</td>\n",
       "      <td>-0.028484</td>\n",
       "      <td>-0.033827</td>\n",
       "    </tr>\n",
       "    <tr>\n",
       "      <th>2019-01-04</th>\n",
       "      <td>0.047138</td>\n",
       "      <td>0.042675</td>\n",
       "      <td>0.050064</td>\n",
       "      <td>0.097235</td>\n",
       "      <td>0.053786</td>\n",
       "      <td>0.058180</td>\n",
       "    </tr>\n",
       "    <tr>\n",
       "      <th>2019-01-07</th>\n",
       "      <td>0.000725</td>\n",
       "      <td>-0.002212</td>\n",
       "      <td>0.034353</td>\n",
       "      <td>0.059717</td>\n",
       "      <td>-0.002167</td>\n",
       "      <td>0.018083</td>\n",
       "    </tr>\n",
       "    <tr>\n",
       "      <th>2019-01-08</th>\n",
       "      <td>0.032452</td>\n",
       "      <td>0.019063</td>\n",
       "      <td>0.016612</td>\n",
       "      <td>0.015634</td>\n",
       "      <td>0.007385</td>\n",
       "      <td>0.018229</td>\n",
       "    </tr>\n",
       "    <tr>\n",
       "      <th>...</th>\n",
       "      <td>...</td>\n",
       "      <td>...</td>\n",
       "      <td>...</td>\n",
       "      <td>...</td>\n",
       "      <td>...</td>\n",
       "      <td>...</td>\n",
       "    </tr>\n",
       "    <tr>\n",
       "      <th>2020-12-24</th>\n",
       "      <td>-0.002648</td>\n",
       "      <td>0.007712</td>\n",
       "      <td>-0.003949</td>\n",
       "      <td>-0.000991</td>\n",
       "      <td>0.003735</td>\n",
       "      <td>0.000772</td>\n",
       "    </tr>\n",
       "    <tr>\n",
       "      <th>2020-12-28</th>\n",
       "      <td>0.035901</td>\n",
       "      <td>0.035766</td>\n",
       "      <td>0.035071</td>\n",
       "      <td>0.010020</td>\n",
       "      <td>0.021416</td>\n",
       "      <td>0.027635</td>\n",
       "    </tr>\n",
       "    <tr>\n",
       "      <th>2020-12-29</th>\n",
       "      <td>-0.000794</td>\n",
       "      <td>-0.013315</td>\n",
       "      <td>0.011584</td>\n",
       "      <td>0.022634</td>\n",
       "      <td>-0.009780</td>\n",
       "      <td>0.002066</td>\n",
       "    </tr>\n",
       "    <tr>\n",
       "      <th>2020-12-30</th>\n",
       "      <td>-0.017740</td>\n",
       "      <td>-0.008527</td>\n",
       "      <td>-0.010882</td>\n",
       "      <td>-0.011830</td>\n",
       "      <td>-0.010917</td>\n",
       "      <td>-0.011979</td>\n",
       "    </tr>\n",
       "    <tr>\n",
       "      <th>2020-12-31</th>\n",
       "      <td>0.004745</td>\n",
       "      <td>-0.007703</td>\n",
       "      <td>-0.008801</td>\n",
       "      <td>0.030767</td>\n",
       "      <td>0.007105</td>\n",
       "      <td>0.005223</td>\n",
       "    </tr>\n",
       "  </tbody>\n",
       "</table>\n",
       "<p>505 rows × 6 columns</p>\n",
       "</div>"
      ],
      "text/plain": [
       "                  FB      AAPL      AMZN      NFLX      GOOG  \\\n",
       "Date                                                           \n",
       "2019-01-02  0.035014  0.001141  0.024741  0.000000  0.009888   \n",
       "2019-01-03 -0.029039 -0.099595 -0.025242  0.013226 -0.028484   \n",
       "2019-01-04  0.047138  0.042675  0.050064  0.097235  0.053786   \n",
       "2019-01-07  0.000725 -0.002212  0.034353  0.059717 -0.002167   \n",
       "2019-01-08  0.032452  0.019063  0.016612  0.015634  0.007385   \n",
       "...              ...       ...       ...       ...       ...   \n",
       "2020-12-24 -0.002648  0.007712 -0.003949 -0.000991  0.003735   \n",
       "2020-12-28  0.035901  0.035766  0.035071  0.010020  0.021416   \n",
       "2020-12-29 -0.000794 -0.013315  0.011584  0.022634 -0.009780   \n",
       "2020-12-30 -0.017740 -0.008527 -0.010882 -0.011830 -0.010917   \n",
       "2020-12-31  0.004745 -0.007703 -0.008801  0.030767  0.007105   \n",
       "\n",
       "            portfolio_daily_returns  \n",
       "Date                                 \n",
       "2019-01-02                 0.014157  \n",
       "2019-01-03                -0.033827  \n",
       "2019-01-04                 0.058180  \n",
       "2019-01-07                 0.018083  \n",
       "2019-01-08                 0.018229  \n",
       "...                             ...  \n",
       "2020-12-24                 0.000772  \n",
       "2020-12-28                 0.027635  \n",
       "2020-12-29                 0.002066  \n",
       "2020-12-30                -0.011979  \n",
       "2020-12-31                 0.005223  \n",
       "\n",
       "[505 rows x 6 columns]"
      ]
     },
     "execution_count": 35,
     "metadata": {},
     "output_type": "execute_result"
    }
   ],
   "source": [
    "#Question 4\n",
    "df_return['portfolio_daily_returns'] = df_return.dot(weights)\n",
    "df_return"
   ]
  },
  {
   "cell_type": "code",
   "execution_count": 60,
   "metadata": {},
   "outputs": [
    {
     "data": {
      "text/plain": [
       "0.001826077398085901"
      ]
     },
     "execution_count": 60,
     "metadata": {},
     "output_type": "execute_result"
    }
   ],
   "source": [
    "df_return['portfolio_daily_returns'].mean()"
   ]
  },
  {
   "cell_type": "code",
   "execution_count": 44,
   "metadata": {},
   "outputs": [
    {
     "data": {
      "text/plain": [
       "[<matplotlib.lines.Line2D at 0x7f83d9532e80>]"
      ]
     },
     "execution_count": 44,
     "metadata": {},
     "output_type": "execute_result"
    },
    {
     "data": {
      "image/png": "[encoded data removed]",
      "text/plain": [
       "<Figure size 720x720 with 1 Axes>"
      ]
     },
     "metadata": {
      "needs_background": "light"
     },
     "output_type": "display_data"
    }
   ],
   "source": [
    "Cumulative_returns_daily = (1+df_return['portfolio_daily_returns']).cumprod()\n",
    "Cumulative_returns_daily\n",
    "fig = plt.figure(figsize =(10,10))\n",
    "plt.title(\"Portfolio Cumulative Historical Returns\")\n",
    "plt.xlabel(\"Date\")\n",
    "plt.ylabel(\"Return\")\n",
    "plt.grid(axis = 'y')\n",
    "plt.plot(Cumulative_returns_daily)"
   ]
  },
  {
   "cell_type": "code",
   "execution_count": 45,
   "metadata": {},
   "outputs": [
    {
     "data": {
      "text/plain": [
       "Date\n",
       "2019-01-02    1.014157\n",
       "2019-01-03    0.979851\n",
       "2019-01-04    1.036859\n",
       "2019-01-07    1.055608\n",
       "2019-01-08    1.074851\n",
       "                ...   \n",
       "2020-12-24    2.242778\n",
       "2020-12-28    2.304757\n",
       "2020-12-29    2.309518\n",
       "2020-12-30    2.281852\n",
       "2020-12-31    2.293769\n",
       "Name: portfolio_daily_returns, Length: 505, dtype: float64"
      ]
     },
     "execution_count": 45,
     "metadata": {},
     "output_type": "execute_result"
    }
   ],
   "source": [
    "Cumulative_returns_daily"
   ]
  },
  {
   "cell_type": "code",
   "execution_count": 37,
   "metadata": {},
   "outputs": [],
   "source": [
    "#Question 5\n",
    "Frequency = []\n",
    "Frequency.append(len(df_return[(df_return[\"portfolio_daily_returns\"] < -0.01)]))\n",
    "Frequency.append(len(df_return[(df_return[\"portfolio_daily_returns\"] < -0.005) & (df_return[\"portfolio_daily_returns\"] > -0.01)]))\n",
    "Frequency.append(len(df_return[(df_return[\"portfolio_daily_returns\"] < 0) & (df_return[\"portfolio_daily_returns\"] > -0.005)]))\n",
    "Frequency.append(len(df_return[(df_return[\"portfolio_daily_returns\"] < 0.005) & (df_return[\"portfolio_daily_returns\"] > 0)]))\n",
    "Frequency.append(len(df_return[(df_return[\"portfolio_daily_returns\"] < 0.01) & (df_return[\"portfolio_daily_returns\"] > 0.005)]))\n",
    "Frequency.append(len(df_return[(df_return[\"portfolio_daily_returns\"] > 0.01)]))\n",
    "\n"
   ]
  },
  {
   "cell_type": "code",
   "execution_count": 39,
   "metadata": {
    "scrolled": true
   },
   "outputs": [
    {
     "data": {
      "text/plain": [
       "[94, 52, 56, 91, 70, 142]"
      ]
     },
     "execution_count": 39,
     "metadata": {},
     "output_type": "execute_result"
    }
   ],
   "source": [
    "Frequency"
   ]
  },
  {
   "cell_type": "code",
   "execution_count": 40,
   "metadata": {},
   "outputs": [
    {
     "data": {
      "image/png": "[encoded data removed]",
      "text/plain": [
       "<Figure size 720x576 with 1 Axes>"
      ]
     },
     "metadata": {
      "needs_background": "light"
     },
     "output_type": "display_data"
    }
   ],
   "source": [
    "x = [\"ret<-1%\",\"-1%<ret<-0.5%\",\"-0.5%<ret<0\",\"0<ret<0.5%\",\"0.5%<ret<1%\",\"ret>1%\"]\n",
    "y = Frequency\n",
    "fig = plt.figure(figsize = (10, 8))\n",
    "plt.bar(x,y)\n",
    "plt.grid(axis = 'y')"
   ]
  }
 ],
 "metadata": {
  "kernelspec": {
   "display_name": "Python 3",
   "language": "python",
   "name": "python3"
  },
  "language_info": {
   "codemirror_mode": {
    "name": "ipython",
    "version": 3
   },
   "file_extension": ".py",
   "mimetype": "text/x-python",
   "name": "python",
   "nbconvert_exporter": "python",
   "pygments_lexer": "ipython3",
   "version": "3.8.5"
  }
 },
 "nbformat": 4,
 "nbformat_minor": 4
}
